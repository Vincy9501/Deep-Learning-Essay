{
 "cells": [
  {
   "cell_type": "markdown",
   "id": "27766d5a",
   "metadata": {},
   "source": [
    "# 实例：用随机森林回归填补缺失值"
   ]
  },
  {
   "cell_type": "markdown",
   "id": "d3e144e6",
   "metadata": {},
   "source": [
    "# 1. 导库"
   ]
  },
  {
   "cell_type": "code",
   "execution_count": 2,
   "id": "4e998536",
   "metadata": {},
   "outputs": [],
   "source": [
    "import numpy as np\n",
    "import pandas as pd\n",
    "import matplotlib.pyplot as plt\n",
    "from sklearn.datasets import load_iris\n",
    "from sklearn.impute import SimpleImputer\n",
    "from sklearn.ensemble import RandomForestRegressor\n",
    "\n",
    "from sklearn.model_selection import cross_val_score"
   ]
  },
  {
   "cell_type": "markdown",
   "id": "4704c040",
   "metadata": {},
   "source": [
    "# 2. 导入数据集，探索"
   ]
  },
  {
   "cell_type": "code",
   "execution_count": 6,
   "id": "392600c1",
   "metadata": {},
   "outputs": [
    {
     "data": {
      "text/plain": [
       "(150, 4)"
      ]
     },
     "execution_count": 6,
     "metadata": {},
     "output_type": "execute_result"
    }
   ],
   "source": [
    "dataset = load_iris()\n",
    "\n",
    "dataset.data.shape"
   ]
  },
  {
   "cell_type": "code",
   "execution_count": 7,
   "id": "ae068662",
   "metadata": {},
   "outputs": [],
   "source": [
    "X_full, y_full = dataset.data, dataset.target\n",
    "n_samples = X_full.shape[0]\n",
    "n_features = X_full.shape[1]"
   ]
  },
  {
   "cell_type": "code",
   "execution_count": 13,
   "id": "3a0ce9b6",
   "metadata": {},
   "outputs": [
    {
     "data": {
      "text/plain": [
       "150"
      ]
     },
     "execution_count": 13,
     "metadata": {},
     "output_type": "execute_result"
    }
   ],
   "source": [
    "n_samples"
   ]
  },
  {
   "cell_type": "code",
   "execution_count": 14,
   "id": "7f35ecbc",
   "metadata": {},
   "outputs": [
    {
     "data": {
      "text/plain": [
       "4"
      ]
     },
     "execution_count": 14,
     "metadata": {},
     "output_type": "execute_result"
    }
   ],
   "source": [
    "n_features"
   ]
  },
  {
   "cell_type": "markdown",
   "id": "4f04faac",
   "metadata": {},
   "source": [
    "# 3. 放入缺失值"
   ]
  },
  {
   "cell_type": "code",
   "execution_count": 8,
   "id": "28633599",
   "metadata": {},
   "outputs": [],
   "source": [
    "#首先确定我们希望放入的缺失数据的比例，在这里我们假设是50%，那总共就要有150*4/2个数据缺失\n",
    "rng = np.random.RandomState(0)\n",
    "missing_rate = 0.5\n",
    "n_missing_samples = int(np.floor(n_samples * n_features * missing_rate))\n",
    "\n",
    "#np.floor向下取整，返回.0格式的浮点数"
   ]
  },
  {
   "cell_type": "code",
   "execution_count": 9,
   "id": "f275ef18",
   "metadata": {},
   "outputs": [
    {
     "data": {
      "text/plain": [
       "300"
      ]
     },
     "execution_count": 9,
     "metadata": {},
     "output_type": "execute_result"
    }
   ],
   "source": [
    "n_missing_samples"
   ]
  },
  {
   "cell_type": "code",
   "execution_count": 16,
   "id": "778f80b7",
   "metadata": {},
   "outputs": [],
   "source": [
    "#所有数据要随机遍布在数据集的各行各列当中，而一个缺失的数据会需要一个行索引和一个列索引\n",
    "#如果能够创造一个数组，包含3289个分布在0~506中间的行索引，和3289个分布在0~13之间的列索引，那我们就可\n",
    "#以利用索引来为数据中的任意3289个位置赋空值\n",
    "#然后我们用0，均值和随机森林来填写这些缺失值，然后查看回归的结果\n",
    "\n",
    "# randint(下限，上限，n)在下限和上限之间取出n个整数\n",
    "missing_features = rng.randint(0,n_features,n_missing_samples)\n",
    "missing_samples = rng.randint(0,n_samples,n_missing_samples)"
   ]
  },
  {
   "cell_type": "code",
   "execution_count": 17,
   "id": "f5b6f670",
   "metadata": {},
   "outputs": [],
   "source": [
    "#missing_samples = rng.choice(dataset.data.shape[0],n_missing_samples,replace=False)\n",
    "#我们现在采样了3289个数据，远远超过我们的样本量506，所以我们使用随机抽取的函数randint。但如果我们需要\n",
    "#的数据量小于我们的样本量506，那我们可以采用np.random.choice来抽样，choice会随机抽取不重复的随机数，\n",
    "#因此可以帮助我们让数据更加分散，确保数据不会集中在一些行中\n",
    "X_missing = X_full.copy()\n",
    "y_missing = y_full.copy()\n",
    "\n",
    "X_missing[missing_samples,missing_features] = np.nan\n",
    "\n",
    "X_missing = pd.DataFrame(X_missing)\n",
    "#转换成DataFrame是为了后续方便各种操作，numpy对矩阵的运算速度快到拯救人生，但是在索引等功能上却不如\n",
    "#pandas来得好用"
   ]
  },
  {
   "cell_type": "markdown",
   "id": "623941ca",
   "metadata": {},
   "source": [
    "# 4. 使用0和均值填补缺失值"
   ]
  },
  {
   "cell_type": "code",
   "execution_count": 18,
   "id": "cddecc7e",
   "metadata": {},
   "outputs": [],
   "source": [
    "#使用均值进行填补\n",
    "from sklearn.impute import SimpleImputer\n",
    "imp_mean = SimpleImputer(missing_values=np.nan, strategy='mean')# 实例化\n",
    "X_missing_mean = imp_mean.fit_transform(X_missing)# 训练+导出 fit+predict"
   ]
  },
  {
   "cell_type": "code",
   "execution_count": 20,
   "id": "ea60ba19",
   "metadata": {},
   "outputs": [
    {
     "data": {
      "text/plain": [
       "array([[5.74942529, 3.02708333, 1.4       , 0.2       ],\n",
       "       [4.9       , 3.        , 1.4       , 0.2       ],\n",
       "       [4.7       , 3.02708333, 1.3       , 1.10786517],\n",
       "       [5.74942529, 3.1       , 3.73085106, 0.2       ],\n",
       "       [5.        , 3.6       , 3.73085106, 1.10786517],\n",
       "       [5.74942529, 3.9       , 1.7       , 0.4       ],\n",
       "       [5.74942529, 3.4       , 3.73085106, 0.3       ],\n",
       "       [5.74942529, 3.02708333, 1.5       , 0.2       ],\n",
       "       [4.4       , 2.9       , 1.4       , 1.10786517],\n",
       "       [4.9       , 3.02708333, 3.73085106, 0.1       ],\n",
       "       [5.4       , 3.7       , 1.5       , 0.2       ],\n",
       "       [4.8       , 3.4       , 1.6       , 0.2       ],\n",
       "       [5.74942529, 3.        , 1.4       , 0.1       ],\n",
       "       [5.74942529, 3.02708333, 3.73085106, 0.1       ],\n",
       "       [5.8       , 4.        , 3.73085106, 0.2       ],\n",
       "       [5.7       , 4.4       , 1.5       , 1.10786517],\n",
       "       [5.4       , 3.9       , 3.73085106, 0.4       ],\n",
       "       [5.1       , 3.02708333, 1.4       , 0.3       ],\n",
       "       [5.7       , 3.02708333, 3.73085106, 0.3       ],\n",
       "       [5.1       , 3.8       , 1.5       , 0.3       ],\n",
       "       [5.4       , 3.4       , 1.7       , 1.10786517],\n",
       "       [5.1       , 3.7       , 1.5       , 0.4       ],\n",
       "       [4.6       , 3.02708333, 3.73085106, 1.10786517],\n",
       "       [5.1       , 3.3       , 1.7       , 0.5       ],\n",
       "       [5.74942529, 3.4       , 1.9       , 1.10786517],\n",
       "       [5.74942529, 3.02708333, 1.6       , 0.2       ],\n",
       "       [5.74942529, 3.4       , 3.73085106, 0.4       ],\n",
       "       [5.74942529, 3.5       , 1.5       , 1.10786517],\n",
       "       [5.74942529, 3.02708333, 3.73085106, 0.2       ],\n",
       "       [4.7       , 3.2       , 1.6       , 1.10786517],\n",
       "       [4.8       , 3.1       , 3.73085106, 0.2       ],\n",
       "       [5.4       , 3.4       , 3.73085106, 0.4       ],\n",
       "       [5.74942529, 3.02708333, 1.5       , 0.1       ],\n",
       "       [5.74942529, 3.02708333, 1.4       , 0.2       ],\n",
       "       [4.9       , 3.02708333, 1.5       , 1.10786517],\n",
       "       [5.        , 3.2       , 1.2       , 1.10786517],\n",
       "       [5.74942529, 3.02708333, 3.73085106, 0.2       ],\n",
       "       [4.9       , 3.6       , 1.4       , 0.1       ],\n",
       "       [5.74942529, 3.        , 3.73085106, 0.2       ],\n",
       "       [5.1       , 3.02708333, 1.5       , 1.10786517],\n",
       "       [5.        , 3.5       , 1.3       , 0.3       ],\n",
       "       [4.5       , 3.02708333, 1.3       , 1.10786517],\n",
       "       [4.4       , 3.2       , 1.3       , 1.10786517],\n",
       "       [5.74942529, 3.5       , 3.73085106, 0.6       ],\n",
       "       [5.74942529, 3.02708333, 1.9       , 0.4       ],\n",
       "       [4.8       , 3.        , 1.4       , 0.3       ],\n",
       "       [5.74942529, 3.02708333, 3.73085106, 0.2       ],\n",
       "       [4.6       , 3.2       , 1.4       , 1.10786517],\n",
       "       [5.3       , 3.02708333, 1.5       , 0.2       ],\n",
       "       [5.        , 3.3       , 3.73085106, 0.2       ],\n",
       "       [7.        , 3.2       , 4.7       , 1.4       ],\n",
       "       [5.74942529, 3.02708333, 4.5       , 1.10786517],\n",
       "       [6.9       , 3.1       , 3.73085106, 1.5       ],\n",
       "       [5.5       , 2.3       , 3.73085106, 1.10786517],\n",
       "       [6.5       , 2.8       , 3.73085106, 1.5       ],\n",
       "       [5.7       , 3.02708333, 4.5       , 1.3       ],\n",
       "       [6.3       , 3.3       , 4.7       , 1.10786517],\n",
       "       [4.9       , 3.02708333, 3.3       , 1.        ],\n",
       "       [5.74942529, 3.02708333, 4.6       , 1.10786517],\n",
       "       [5.74942529, 2.7       , 3.9       , 1.10786517],\n",
       "       [5.        , 2.        , 3.73085106, 1.        ],\n",
       "       [5.74942529, 3.02708333, 4.2       , 1.10786517],\n",
       "       [6.        , 2.2       , 4.        , 1.        ],\n",
       "       [6.1       , 3.02708333, 4.7       , 1.10786517],\n",
       "       [5.6       , 3.02708333, 3.6       , 1.3       ],\n",
       "       [5.74942529, 3.02708333, 3.73085106, 1.4       ],\n",
       "       [5.74942529, 3.        , 4.5       , 1.10786517],\n",
       "       [5.8       , 3.02708333, 4.1       , 1.10786517],\n",
       "       [5.74942529, 2.2       , 4.5       , 1.10786517],\n",
       "       [5.74942529, 2.5       , 3.9       , 1.10786517],\n",
       "       [5.74942529, 3.2       , 3.73085106, 1.8       ],\n",
       "       [5.74942529, 3.02708333, 4.        , 1.3       ],\n",
       "       [5.74942529, 2.5       , 4.9       , 1.10786517],\n",
       "       [5.74942529, 2.8       , 4.7       , 1.2       ],\n",
       "       [5.74942529, 2.9       , 3.73085106, 1.10786517],\n",
       "       [6.6       , 3.        , 4.4       , 1.4       ],\n",
       "       [5.74942529, 2.8       , 4.8       , 1.4       ],\n",
       "       [6.7       , 3.        , 5.        , 1.7       ],\n",
       "       [6.        , 3.02708333, 4.5       , 1.5       ],\n",
       "       [5.7       , 3.02708333, 3.5       , 1.        ],\n",
       "       [5.5       , 3.02708333, 3.8       , 1.10786517],\n",
       "       [5.74942529, 2.4       , 3.7       , 1.        ],\n",
       "       [5.8       , 2.7       , 3.73085106, 1.2       ],\n",
       "       [5.74942529, 3.02708333, 5.1       , 1.10786517],\n",
       "       [5.74942529, 3.02708333, 3.73085106, 1.5       ],\n",
       "       [6.        , 3.4       , 3.73085106, 1.6       ],\n",
       "       [5.74942529, 3.1       , 4.7       , 1.5       ],\n",
       "       [6.3       , 3.02708333, 3.73085106, 1.10786517],\n",
       "       [5.6       , 3.02708333, 4.1       , 1.3       ],\n",
       "       [5.74942529, 3.02708333, 4.        , 1.3       ],\n",
       "       [5.5       , 2.6       , 4.4       , 1.10786517],\n",
       "       [5.74942529, 3.02708333, 3.73085106, 1.10786517],\n",
       "       [5.74942529, 2.6       , 3.73085106, 1.10786517],\n",
       "       [5.        , 3.02708333, 3.3       , 1.10786517],\n",
       "       [5.6       , 2.7       , 3.73085106, 1.10786517],\n",
       "       [5.7       , 3.        , 4.2       , 1.2       ],\n",
       "       [5.7       , 2.9       , 4.2       , 1.10786517],\n",
       "       [5.74942529, 2.9       , 3.73085106, 1.10786517],\n",
       "       [5.1       , 2.5       , 3.73085106, 1.1       ],\n",
       "       [5.74942529, 2.8       , 4.1       , 1.3       ],\n",
       "       [6.3       , 3.02708333, 6.        , 1.10786517],\n",
       "       [5.8       , 2.7       , 5.1       , 1.10786517],\n",
       "       [5.74942529, 3.        , 5.9       , 2.1       ],\n",
       "       [6.3       , 3.02708333, 5.6       , 1.8       ],\n",
       "       [5.74942529, 3.        , 3.73085106, 2.2       ],\n",
       "       [5.74942529, 3.        , 3.73085106, 1.10786517],\n",
       "       [4.9       , 2.5       , 3.73085106, 1.7       ],\n",
       "       [5.74942529, 2.9       , 6.3       , 1.8       ],\n",
       "       [5.74942529, 3.02708333, 5.8       , 1.8       ],\n",
       "       [7.2       , 3.02708333, 6.1       , 1.10786517],\n",
       "       [6.5       , 3.2       , 5.1       , 2.        ],\n",
       "       [5.74942529, 2.7       , 3.73085106, 1.10786517],\n",
       "       [5.74942529, 3.        , 3.73085106, 1.10786517],\n",
       "       [5.7       , 2.5       , 3.73085106, 2.        ],\n",
       "       [5.8       , 2.8       , 3.73085106, 1.10786517],\n",
       "       [5.74942529, 3.2       , 3.73085106, 2.3       ],\n",
       "       [6.5       , 3.02708333, 5.5       , 1.10786517],\n",
       "       [5.74942529, 3.02708333, 6.7       , 1.10786517],\n",
       "       [7.7       , 2.6       , 6.9       , 1.10786517],\n",
       "       [5.74942529, 2.2       , 5.        , 1.10786517],\n",
       "       [5.74942529, 3.2       , 3.73085106, 1.10786517],\n",
       "       [5.6       , 2.8       , 3.73085106, 1.10786517],\n",
       "       [5.74942529, 2.8       , 6.7       , 2.        ],\n",
       "       [6.3       , 3.02708333, 4.9       , 1.10786517],\n",
       "       [6.7       , 3.3       , 3.73085106, 2.1       ],\n",
       "       [5.74942529, 3.02708333, 6.        , 1.8       ],\n",
       "       [5.74942529, 2.8       , 3.73085106, 1.8       ],\n",
       "       [6.1       , 3.        , 4.9       , 1.8       ],\n",
       "       [5.74942529, 2.8       , 3.73085106, 1.10786517],\n",
       "       [7.2       , 3.        , 3.73085106, 1.6       ],\n",
       "       [7.4       , 2.8       , 6.1       , 1.9       ],\n",
       "       [7.9       , 3.02708333, 3.73085106, 2.        ],\n",
       "       [6.4       , 2.8       , 3.73085106, 2.2       ],\n",
       "       [5.74942529, 2.8       , 5.1       , 1.10786517],\n",
       "       [6.1       , 2.6       , 5.6       , 1.10786517],\n",
       "       [5.74942529, 3.        , 6.1       , 1.10786517],\n",
       "       [5.74942529, 3.02708333, 5.6       , 1.10786517],\n",
       "       [6.4       , 3.1       , 3.73085106, 1.10786517],\n",
       "       [5.74942529, 3.        , 3.73085106, 1.8       ],\n",
       "       [5.74942529, 3.1       , 5.4       , 2.1       ],\n",
       "       [6.7       , 3.1       , 3.73085106, 2.4       ],\n",
       "       [6.9       , 3.02708333, 5.1       , 1.10786517],\n",
       "       [5.8       , 2.7       , 5.1       , 1.9       ],\n",
       "       [6.8       , 3.2       , 5.9       , 2.3       ],\n",
       "       [6.7       , 3.3       , 3.73085106, 2.5       ],\n",
       "       [5.74942529, 3.02708333, 5.2       , 2.3       ],\n",
       "       [6.3       , 3.02708333, 5.        , 1.9       ],\n",
       "       [6.5       , 3.        , 5.2       , 1.10786517],\n",
       "       [6.2       , 3.02708333, 3.73085106, 1.10786517],\n",
       "       [5.9       , 3.02708333, 3.73085106, 1.8       ]])"
      ]
     },
     "execution_count": 20,
     "metadata": {},
     "output_type": "execute_result"
    }
   ],
   "source": [
    "X_missing_mean"
   ]
  },
  {
   "cell_type": "code",
   "execution_count": 19,
   "id": "8c981a1b",
   "metadata": {},
   "outputs": [
    {
     "data": {
      "text/plain": [
       "0    0\n",
       "1    0\n",
       "2    0\n",
       "3    0\n",
       "dtype: int64"
      ]
     },
     "execution_count": 19,
     "metadata": {},
     "output_type": "execute_result"
    }
   ],
   "source": [
    "pd.DataFrame(X_missing_mean).isnull().sum()"
   ]
  },
  {
   "cell_type": "code",
   "execution_count": 21,
   "id": "e190dc5a",
   "metadata": {},
   "outputs": [
    {
     "data": {
      "text/plain": [
       "array([[0. , 0. , 1.4, 0.2],\n",
       "       [4.9, 3. , 1.4, 0.2],\n",
       "       [4.7, 0. , 1.3, 0. ],\n",
       "       [0. , 3.1, 0. , 0.2],\n",
       "       [5. , 3.6, 0. , 0. ],\n",
       "       [0. , 3.9, 1.7, 0.4],\n",
       "       [0. , 3.4, 0. , 0.3],\n",
       "       [0. , 0. , 1.5, 0.2],\n",
       "       [4.4, 2.9, 1.4, 0. ],\n",
       "       [4.9, 0. , 0. , 0.1],\n",
       "       [5.4, 3.7, 1.5, 0.2],\n",
       "       [4.8, 3.4, 1.6, 0.2],\n",
       "       [0. , 3. , 1.4, 0.1],\n",
       "       [0. , 0. , 0. , 0.1],\n",
       "       [5.8, 4. , 0. , 0.2],\n",
       "       [5.7, 4.4, 1.5, 0. ],\n",
       "       [5.4, 3.9, 0. , 0.4],\n",
       "       [5.1, 0. , 1.4, 0.3],\n",
       "       [5.7, 0. , 0. , 0.3],\n",
       "       [5.1, 3.8, 1.5, 0.3],\n",
       "       [5.4, 3.4, 1.7, 0. ],\n",
       "       [5.1, 3.7, 1.5, 0.4],\n",
       "       [4.6, 0. , 0. , 0. ],\n",
       "       [5.1, 3.3, 1.7, 0.5],\n",
       "       [0. , 3.4, 1.9, 0. ],\n",
       "       [0. , 0. , 1.6, 0.2],\n",
       "       [0. , 3.4, 0. , 0.4],\n",
       "       [0. , 3.5, 1.5, 0. ],\n",
       "       [0. , 0. , 0. , 0.2],\n",
       "       [4.7, 3.2, 1.6, 0. ],\n",
       "       [4.8, 3.1, 0. , 0.2],\n",
       "       [5.4, 3.4, 0. , 0.4],\n",
       "       [0. , 0. , 1.5, 0.1],\n",
       "       [0. , 0. , 1.4, 0.2],\n",
       "       [4.9, 0. , 1.5, 0. ],\n",
       "       [5. , 3.2, 1.2, 0. ],\n",
       "       [0. , 0. , 0. , 0.2],\n",
       "       [4.9, 3.6, 1.4, 0.1],\n",
       "       [0. , 3. , 0. , 0.2],\n",
       "       [5.1, 0. , 1.5, 0. ],\n",
       "       [5. , 3.5, 1.3, 0.3],\n",
       "       [4.5, 0. , 1.3, 0. ],\n",
       "       [4.4, 3.2, 1.3, 0. ],\n",
       "       [0. , 3.5, 0. , 0.6],\n",
       "       [0. , 0. , 1.9, 0.4],\n",
       "       [4.8, 3. , 1.4, 0.3],\n",
       "       [0. , 0. , 0. , 0.2],\n",
       "       [4.6, 3.2, 1.4, 0. ],\n",
       "       [5.3, 0. , 1.5, 0.2],\n",
       "       [5. , 3.3, 0. , 0.2],\n",
       "       [7. , 3.2, 4.7, 1.4],\n",
       "       [0. , 0. , 4.5, 0. ],\n",
       "       [6.9, 3.1, 0. , 1.5],\n",
       "       [5.5, 2.3, 0. , 0. ],\n",
       "       [6.5, 2.8, 0. , 1.5],\n",
       "       [5.7, 0. , 4.5, 1.3],\n",
       "       [6.3, 3.3, 4.7, 0. ],\n",
       "       [4.9, 0. , 3.3, 1. ],\n",
       "       [0. , 0. , 4.6, 0. ],\n",
       "       [0. , 2.7, 3.9, 0. ],\n",
       "       [5. , 2. , 0. , 1. ],\n",
       "       [0. , 0. , 4.2, 0. ],\n",
       "       [6. , 2.2, 4. , 1. ],\n",
       "       [6.1, 0. , 4.7, 0. ],\n",
       "       [5.6, 0. , 3.6, 1.3],\n",
       "       [0. , 0. , 0. , 1.4],\n",
       "       [0. , 3. , 4.5, 0. ],\n",
       "       [5.8, 0. , 4.1, 0. ],\n",
       "       [0. , 2.2, 4.5, 0. ],\n",
       "       [0. , 2.5, 3.9, 0. ],\n",
       "       [0. , 3.2, 0. , 1.8],\n",
       "       [0. , 0. , 4. , 1.3],\n",
       "       [0. , 2.5, 4.9, 0. ],\n",
       "       [0. , 2.8, 4.7, 1.2],\n",
       "       [0. , 2.9, 0. , 0. ],\n",
       "       [6.6, 3. , 4.4, 1.4],\n",
       "       [0. , 2.8, 4.8, 1.4],\n",
       "       [6.7, 3. , 5. , 1.7],\n",
       "       [6. , 0. , 4.5, 1.5],\n",
       "       [5.7, 0. , 3.5, 1. ],\n",
       "       [5.5, 0. , 3.8, 0. ],\n",
       "       [0. , 2.4, 3.7, 1. ],\n",
       "       [5.8, 2.7, 0. , 1.2],\n",
       "       [0. , 0. , 5.1, 0. ],\n",
       "       [0. , 0. , 0. , 1.5],\n",
       "       [6. , 3.4, 0. , 1.6],\n",
       "       [0. , 3.1, 4.7, 1.5],\n",
       "       [6.3, 0. , 0. , 0. ],\n",
       "       [5.6, 0. , 4.1, 1.3],\n",
       "       [0. , 0. , 4. , 1.3],\n",
       "       [5.5, 2.6, 4.4, 0. ],\n",
       "       [0. , 0. , 0. , 0. ],\n",
       "       [0. , 2.6, 0. , 0. ],\n",
       "       [5. , 0. , 3.3, 0. ],\n",
       "       [5.6, 2.7, 0. , 0. ],\n",
       "       [5.7, 3. , 4.2, 1.2],\n",
       "       [5.7, 2.9, 4.2, 0. ],\n",
       "       [0. , 2.9, 0. , 0. ],\n",
       "       [5.1, 2.5, 0. , 1.1],\n",
       "       [0. , 2.8, 4.1, 1.3],\n",
       "       [6.3, 0. , 6. , 0. ],\n",
       "       [5.8, 2.7, 5.1, 0. ],\n",
       "       [0. , 3. , 5.9, 2.1],\n",
       "       [6.3, 0. , 5.6, 1.8],\n",
       "       [0. , 3. , 0. , 2.2],\n",
       "       [0. , 3. , 0. , 0. ],\n",
       "       [4.9, 2.5, 0. , 1.7],\n",
       "       [0. , 2.9, 6.3, 1.8],\n",
       "       [0. , 0. , 5.8, 1.8],\n",
       "       [7.2, 0. , 6.1, 0. ],\n",
       "       [6.5, 3.2, 5.1, 2. ],\n",
       "       [0. , 2.7, 0. , 0. ],\n",
       "       [0. , 3. , 0. , 0. ],\n",
       "       [5.7, 2.5, 0. , 2. ],\n",
       "       [5.8, 2.8, 0. , 0. ],\n",
       "       [0. , 3.2, 0. , 2.3],\n",
       "       [6.5, 0. , 5.5, 0. ],\n",
       "       [0. , 0. , 6.7, 0. ],\n",
       "       [7.7, 2.6, 6.9, 0. ],\n",
       "       [0. , 2.2, 5. , 0. ],\n",
       "       [0. , 3.2, 0. , 0. ],\n",
       "       [5.6, 2.8, 0. , 0. ],\n",
       "       [0. , 2.8, 6.7, 2. ],\n",
       "       [6.3, 0. , 4.9, 0. ],\n",
       "       [6.7, 3.3, 0. , 2.1],\n",
       "       [0. , 0. , 6. , 1.8],\n",
       "       [0. , 2.8, 0. , 1.8],\n",
       "       [6.1, 3. , 4.9, 1.8],\n",
       "       [0. , 2.8, 0. , 0. ],\n",
       "       [7.2, 3. , 0. , 1.6],\n",
       "       [7.4, 2.8, 6.1, 1.9],\n",
       "       [7.9, 0. , 0. , 2. ],\n",
       "       [6.4, 2.8, 0. , 2.2],\n",
       "       [0. , 2.8, 5.1, 0. ],\n",
       "       [6.1, 2.6, 5.6, 0. ],\n",
       "       [0. , 3. , 6.1, 0. ],\n",
       "       [0. , 0. , 5.6, 0. ],\n",
       "       [6.4, 3.1, 0. , 0. ],\n",
       "       [0. , 3. , 0. , 1.8],\n",
       "       [0. , 3.1, 5.4, 2.1],\n",
       "       [6.7, 3.1, 0. , 2.4],\n",
       "       [6.9, 0. , 5.1, 0. ],\n",
       "       [5.8, 2.7, 5.1, 1.9],\n",
       "       [6.8, 3.2, 5.9, 2.3],\n",
       "       [6.7, 3.3, 0. , 2.5],\n",
       "       [0. , 0. , 5.2, 2.3],\n",
       "       [6.3, 0. , 5. , 1.9],\n",
       "       [6.5, 3. , 5.2, 0. ],\n",
       "       [6.2, 0. , 0. , 0. ],\n",
       "       [5.9, 0. , 0. , 1.8]])"
      ]
     },
     "execution_count": 21,
     "metadata": {},
     "output_type": "execute_result"
    }
   ],
   "source": [
    "#使用0进行填补\n",
    "imp_0 = SimpleImputer(missing_values=np.nan, strategy=\"constant\",fill_value=0)\n",
    "X_missing_0 = imp_0.fit_transform(X_missing)\n",
    "\n",
    "X_missing_0"
   ]
  },
  {
   "cell_type": "markdown",
   "id": "a5ed41c5",
   "metadata": {},
   "source": [
    "# 5. 使用随机森林填补缺失值"
   ]
  },
  {
   "cell_type": "code",
   "execution_count": 22,
   "id": "a5812d3f",
   "metadata": {},
   "outputs": [],
   "source": [
    "\"\"\"\n",
    "使用随机森林回归填补缺失值\n",
    "任何回归都是从特征矩阵中学习，然后求解连续型标签y的过程，之所以能够实现这个过程，是因为回归算法认为，特征\n",
    "矩阵和标签之前存在着某种联系。实际上，标签和特征是可以相互转换的，比如说，在一个“用地区，环境，附近学校数\n",
    "量”预测“房价”的问题中，我们既可以用“地区”，“环境”，“附近学校数量”的数据来预测“房价”，也可以反过来，\n",
    "用“环境”，“附近学校数量”和“房价”来预测“地区”。而回归填补缺失值，正是利用了这种思想。\n",
    "\n",
    "对于一个有n个特征的数据来说，其中特征T有缺失值，我们就把特征T当作标签，其他的n-1个特征和原本的标签组成新\n",
    "的特征矩阵。那对于T来说，它没有缺失的部分，就是我们的Y_test，这部分数据既有标签也有特征，而它缺失的部\n",
    "分，只有特征没有标签，就是我们需要预测的部分。\n",
    "特征T不缺失的值对应的其他n-1个特征 + 本来的标签：X_train\n",
    "特征T不缺失的值：Y_train\n",
    "特征T缺失的值对应的其他n-1个特征 + 本来的标签：X_test\n",
    "特征T缺失的值：未知，我们需要预测的Y_test\n",
    "这种做法，对于某一个特征大量缺失，其他特征却很完整的情况，非常适用。\n",
    "\n",
    "那如果数据中除了特征T之外，其他特征也有缺失值怎么办？\n",
    "\n",
    "答案是遍历所有的特征，从缺失最少的开始进行填补（因为填补缺失最少的特征所需要的准确信息最少）。\n",
    "填补一个特征时，先将其他特征的缺失值用0代替，每完成一次回归预测，就将预测值放到原本的特征矩阵中，再继续填\n",
    "补下一个特征。每一次填补完毕，有缺失值的特征会减少一个，所以每次循环后，需要用0来填补的特征就越来越少。当\n",
    "进行到最后一个特征时（这个特征应该是所有特征中缺失值最多的），已经没有任何的其他特征需要用0来进行填补了，\n",
    "而我们已经使用回归为其他特征填补了大量有效信息，可以用来填补缺失最多的特征。\n",
    "遍历所有的特征后，数据就完整，不再有缺失值了。\n",
    "\"\"\"\n",
    "X_missing_reg = X_missing.copy()\n",
    "#找出数据集中缺失值从小到大排列的特征的顺序\n",
    "#argsort排的索引\n",
    "sortindex = np.argsort(X_missing_reg.isnull().sum(axis=0)).values"
   ]
  },
  {
   "cell_type": "code",
   "execution_count": 23,
   "id": "d6a6df44",
   "metadata": {},
   "outputs": [
    {
     "data": {
      "text/html": [
       "<div>\n",
       "<style scoped>\n",
       "    .dataframe tbody tr th:only-of-type {\n",
       "        vertical-align: middle;\n",
       "    }\n",
       "\n",
       "    .dataframe tbody tr th {\n",
       "        vertical-align: top;\n",
       "    }\n",
       "\n",
       "    .dataframe thead th {\n",
       "        text-align: right;\n",
       "    }\n",
       "</style>\n",
       "<table border=\"1\" class=\"dataframe\">\n",
       "  <thead>\n",
       "    <tr style=\"text-align: right;\">\n",
       "      <th></th>\n",
       "      <th>0</th>\n",
       "      <th>1</th>\n",
       "      <th>2</th>\n",
       "      <th>3</th>\n",
       "    </tr>\n",
       "  </thead>\n",
       "  <tbody>\n",
       "    <tr>\n",
       "      <th>0</th>\n",
       "      <td>NaN</td>\n",
       "      <td>NaN</td>\n",
       "      <td>1.4</td>\n",
       "      <td>0.2</td>\n",
       "    </tr>\n",
       "    <tr>\n",
       "      <th>1</th>\n",
       "      <td>4.9</td>\n",
       "      <td>3.0</td>\n",
       "      <td>1.4</td>\n",
       "      <td>0.2</td>\n",
       "    </tr>\n",
       "    <tr>\n",
       "      <th>2</th>\n",
       "      <td>4.7</td>\n",
       "      <td>NaN</td>\n",
       "      <td>1.3</td>\n",
       "      <td>NaN</td>\n",
       "    </tr>\n",
       "    <tr>\n",
       "      <th>3</th>\n",
       "      <td>NaN</td>\n",
       "      <td>3.1</td>\n",
       "      <td>NaN</td>\n",
       "      <td>0.2</td>\n",
       "    </tr>\n",
       "    <tr>\n",
       "      <th>4</th>\n",
       "      <td>5.0</td>\n",
       "      <td>3.6</td>\n",
       "      <td>NaN</td>\n",
       "      <td>NaN</td>\n",
       "    </tr>\n",
       "    <tr>\n",
       "      <th>...</th>\n",
       "      <td>...</td>\n",
       "      <td>...</td>\n",
       "      <td>...</td>\n",
       "      <td>...</td>\n",
       "    </tr>\n",
       "    <tr>\n",
       "      <th>145</th>\n",
       "      <td>NaN</td>\n",
       "      <td>NaN</td>\n",
       "      <td>5.2</td>\n",
       "      <td>2.3</td>\n",
       "    </tr>\n",
       "    <tr>\n",
       "      <th>146</th>\n",
       "      <td>6.3</td>\n",
       "      <td>NaN</td>\n",
       "      <td>5.0</td>\n",
       "      <td>1.9</td>\n",
       "    </tr>\n",
       "    <tr>\n",
       "      <th>147</th>\n",
       "      <td>6.5</td>\n",
       "      <td>3.0</td>\n",
       "      <td>5.2</td>\n",
       "      <td>NaN</td>\n",
       "    </tr>\n",
       "    <tr>\n",
       "      <th>148</th>\n",
       "      <td>6.2</td>\n",
       "      <td>NaN</td>\n",
       "      <td>NaN</td>\n",
       "      <td>NaN</td>\n",
       "    </tr>\n",
       "    <tr>\n",
       "      <th>149</th>\n",
       "      <td>5.9</td>\n",
       "      <td>NaN</td>\n",
       "      <td>NaN</td>\n",
       "      <td>1.8</td>\n",
       "    </tr>\n",
       "  </tbody>\n",
       "</table>\n",
       "<p>150 rows × 4 columns</p>\n",
       "</div>"
      ],
      "text/plain": [
       "       0    1    2    3\n",
       "0    NaN  NaN  1.4  0.2\n",
       "1    4.9  3.0  1.4  0.2\n",
       "2    4.7  NaN  1.3  NaN\n",
       "3    NaN  3.1  NaN  0.2\n",
       "4    5.0  3.6  NaN  NaN\n",
       "..   ...  ...  ...  ...\n",
       "145  NaN  NaN  5.2  2.3\n",
       "146  6.3  NaN  5.0  1.9\n",
       "147  6.5  3.0  5.2  NaN\n",
       "148  6.2  NaN  NaN  NaN\n",
       "149  5.9  NaN  NaN  1.8\n",
       "\n",
       "[150 rows x 4 columns]"
      ]
     },
     "execution_count": 23,
     "metadata": {},
     "output_type": "execute_result"
    }
   ],
   "source": [
    "X_missing_reg"
   ]
  },
  {
   "cell_type": "code",
   "execution_count": 24,
   "id": "120a2a66",
   "metadata": {},
   "outputs": [
    {
     "data": {
      "text/plain": [
       "array([1, 2, 3, 0], dtype=int64)"
      ]
     },
     "execution_count": 24,
     "metadata": {},
     "output_type": "execute_result"
    }
   ],
   "source": [
    "sortindex"
   ]
  },
  {
   "cell_type": "code",
   "execution_count": 25,
   "id": "49eb3ad7",
   "metadata": {},
   "outputs": [],
   "source": [
    "for i in sortindex:\n",
    "     #构建我们的新特征矩阵和新标签\n",
    "    df = X_missing_reg\n",
    "    fillc = df.iloc[:,i]\n",
    "    df = pd.concat([df.iloc[:,df.columns != i],pd.DataFrame(y_full)],axis=1)\n",
    "    \n",
    "    #在新特征矩阵中，对含有缺失值的列，进行0的填补\n",
    "    df_0 =SimpleImputer(missing_values=np.nan,\n",
    "                        strategy='constant',fill_value=0).fit_transform(df)\n",
    "    \n",
    "    #找出我们的训练集和测试集\n",
    "    Ytrain = fillc[fillc.notnull()]\n",
    "    #我们需要它的索引\n",
    "    Ytest = fillc[fillc.isnull()]\n",
    "    #以它的索引为行其他全部取出\n",
    "    Xtrain = df_0[Ytrain.index,:]\n",
    "    Xtest = df_0[Ytest.index,:]\n",
    "    \n",
    "    #用随机森林回归来填补缺失值\n",
    "    rfc = RandomForestRegressor(n_estimators=100) #实例化\n",
    "    rfc = rfc.fit(Xtrain, Ytrain) #导入训练集\n",
    "    Ypredict = rfc.predict(Xtest) #predict得到回归结果\n",
    "    \n",
    "    #将填补好的特征返回到我们的原始的特征矩阵中\n",
    "    X_missing_reg.loc[X_missing_reg.iloc[:,i].isnull(),i] = Ypredict"
   ]
  },
  {
   "cell_type": "markdown",
   "id": "694d0e61",
   "metadata": {},
   "source": [
    "# 6. 对填补好的数据进行建模"
   ]
  },
  {
   "cell_type": "code",
   "execution_count": 26,
   "id": "78649b41",
   "metadata": {},
   "outputs": [],
   "source": [
    "#对所有数据进行建模，取得MSE结果\n",
    "X = [X_full,X_missing_mean,X_missing_0,X_missing_reg]\n",
    "mse = []\n",
    "std = []\n",
    "for x in X:\n",
    "    estimator = RandomForestRegressor(random_state=0, n_estimators=100)\n",
    "    scores = cross_val_score(estimator,x,y_full,scoring='neg_mean_squared_error', \n",
    "cv=5).mean()\n",
    "    mse.append(scores * -1)"
   ]
  },
  {
   "cell_type": "code",
   "execution_count": 29,
   "id": "5e1ed031",
   "metadata": {},
   "outputs": [
    {
     "data": {
      "text/plain": [
       "[('X_full', 0.05610933333333333),\n",
       " ('X_missing_mean', 0.14397866666666667),\n",
       " ('X_missing_0', 0.14064666666666667),\n",
       " ('X_missing_reg', 0.039060000000000004)]"
      ]
     },
     "execution_count": 29,
     "metadata": {},
     "output_type": "execute_result"
    }
   ],
   "source": [
    "[*zip(['X_full','X_missing_mean','X_missing_0','X_missing_reg'],mse)]"
   ]
  },
  {
   "cell_type": "markdown",
   "id": "190d2448",
   "metadata": {},
   "source": [
    "# 7. 画图"
   ]
  },
  {
   "cell_type": "code",
   "execution_count": 28,
   "id": "03259e6f",
   "metadata": {},
   "outputs": [
    {
     "data": {
      "image/png": "[encoded data removed]",
      "text/plain": [
       "<Figure size 1200x600 with 1 Axes>"
      ]
     },
     "metadata": {},
     "output_type": "display_data"
    }
   ],
   "source": [
    "x_labels = ['Full data',\n",
    "            'Zero Imputation',\n",
    "            'Mean Imputation',\n",
    "            'Regressor Imputation']\n",
    "colors = ['r', 'g', 'b', 'orange']\n",
    "plt.figure(figsize=(12, 6))\n",
    "ax = plt.subplot(111)\n",
    "for i in np.arange(len(mse)):\n",
    "    ax.barh(i, mse[i],color=colors[i], alpha=0.6, align='center')\n",
    "ax.set_title('Imputation Techniques with Boston Data')\n",
    "ax.set_xlim(left=np.min(mse) * 0.9,\n",
    "             right=np.max(mse) * 1.1)\n",
    "ax.set_yticks(np.arange(len(mse)))\n",
    "ax.set_xlabel('MSE')\n",
    "ax.set_yticklabels(x_labels)\n",
    "plt.show()"
   ]
  },
  {
   "cell_type": "code",
   "execution_count": 1,
   "id": "1a45003c",
   "metadata": {},
   "outputs": [],
   "source": [
    "import datetime\n",
    "y = datetime.datetime(2020,10,10,0,0)\n",
    "\n",
    "def add(y, m, s):\n",
    "    y += datetime.timedelta(minutes=m,seconds=s)\n",
    "    return y"
   ]
  },
  {
   "cell_type": "code",
   "execution_count": 4,
   "id": "ef3f865e",
   "metadata": {},
   "outputs": [],
   "source": [
    "y = add(y, 16,43)"
   ]
  },
  {
   "cell_type": "code",
   "execution_count": 5,
   "id": "8e0a96b3",
   "metadata": {},
   "outputs": [],
   "source": [
    "y = add(y,23,32)\n",
    "y = add(y,14,32)\n",
    "y = add(y,17,32)\n",
    "y = add(y,8,45)\n",
    "y = add(y,7,52)\n",
    "y = add(y,14,59)\n",
    "y = add(y,34,48)\n",
    "y = add(y,17,31)"
   ]
  },
  {
   "cell_type": "code",
   "execution_count": 6,
   "id": "ae6df169",
   "metadata": {},
   "outputs": [
    {
     "data": {
      "text/plain": [
       "datetime.datetime(2020, 10, 10, 2, 36, 14)"
      ]
     },
     "execution_count": 6,
     "metadata": {},
     "output_type": "execute_result"
    }
   ],
   "source": [
    "y"
   ]
  },
  {
   "cell_type": "code",
   "execution_count": null,
   "id": "887141a9",
   "metadata": {},
   "outputs": [],
   "source": []
  }
 ],
 "metadata": {
  "kernelspec": {
   "display_name": "Python 3 (ipykernel)",
   "language": "python",
   "name": "python3"
  },
  "language_info": {
   "codemirror_mode": {
    "name": "ipython",
    "version": 3
   },
   "file_extension": ".py",
   "mimetype": "text/x-python",
   "name": "python",
   "nbconvert_exporter": "python",
   "pygments_lexer": "ipython3",
   "version": "3.11.1"
  }
 },
 "nbformat": 4,
 "nbformat_minor": 5
}
