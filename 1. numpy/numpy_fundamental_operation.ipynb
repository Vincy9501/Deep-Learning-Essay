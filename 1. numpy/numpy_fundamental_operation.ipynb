{
 "cells": [
  {
   "cell_type": "markdown",
   "id": "2afcf63a",
   "metadata": {},
   "source": [
    "# 1. NumPy基本操作"
   ]
  },
  {
   "cell_type": "markdown",
   "id": "09cab291",
   "metadata": {},
   "source": [
    "## 1.1 列表转为矩阵"
   ]
  },
  {
   "cell_type": "code",
   "execution_count": 5,
   "id": "55936b3e",
   "metadata": {},
   "outputs": [
    {
     "name": "stdout",
     "output_type": "stream",
     "text": [
      "[[1 3 5]\n",
      " [4 6 9]]\n"
     ]
    }
   ],
   "source": [
    "import numpy as np\n",
    "array = np.array([\n",
    "    [1,3,5],\n",
    "    [4,6,9]\n",
    "])\n",
    "print(array)"
   ]
  },
  {
   "cell_type": "markdown",
   "id": "3820b90f",
   "metadata": {},
   "source": [
    "## 1.2 维度"
   ]
  },
  {
   "cell_type": "code",
   "execution_count": 6,
   "id": "878168ae",
   "metadata": {},
   "outputs": [
    {
     "name": "stdout",
     "output_type": "stream",
     "text": [
      "number of dim: 2\n"
     ]
    }
   ],
   "source": [
    "print('number of dim:', array.ndim)"
   ]
  },
  {
   "cell_type": "markdown",
   "id": "e6513907",
   "metadata": {},
   "source": [
    "## 1.3 行数和列数"
   ]
  },
  {
   "cell_type": "code",
   "execution_count": 9,
   "id": "cd9119ae",
   "metadata": {},
   "outputs": [
    {
     "name": "stdout",
     "output_type": "stream",
     "text": [
      "shape (2, 3)\n"
     ]
    }
   ],
   "source": [
    "print('shape',array.shape)"
   ]
  },
  {
   "cell_type": "code",
   "execution_count": 10,
   "id": "29449820",
   "metadata": {},
   "outputs": [
    {
     "name": "stdout",
     "output_type": "stream",
     "text": [
      "shape 2\n"
     ]
    }
   ],
   "source": [
    "print('shape',array.shape[0])"
   ]
  },
  {
   "cell_type": "code",
   "execution_count": 11,
   "id": "d5b01c9d",
   "metadata": {},
   "outputs": [
    {
     "name": "stdout",
     "output_type": "stream",
     "text": [
      "shape 3\n"
     ]
    }
   ],
   "source": [
    "print('shape',array.shape[1])"
   ]
  },
  {
   "cell_type": "markdown",
   "id": "3c58c10c",
   "metadata": {},
   "source": [
    "## 1.4 元素个数"
   ]
  },
  {
   "cell_type": "code",
   "execution_count": 12,
   "id": "1024fb71",
   "metadata": {},
   "outputs": [
    {
     "name": "stdout",
     "output_type": "stream",
     "text": [
      "size: 6\n"
     ]
    }
   ],
   "source": [
    "print('size:', array.size)"
   ]
  },
  {
   "cell_type": "markdown",
   "id": "b041c318",
   "metadata": {},
   "source": [
    "# 2. NumPy创建array"
   ]
  },
  {
   "cell_type": "markdown",
   "id": "c154cdb3",
   "metadata": {},
   "source": [
    "## 2.1 一维array创建"
   ]
  },
  {
   "cell_type": "code",
   "execution_count": 14,
   "id": "675e6432",
   "metadata": {},
   "outputs": [
    {
     "name": "stdout",
     "output_type": "stream",
     "text": [
      "[2 4]\n"
     ]
    }
   ],
   "source": [
    "import numpy as np\n",
    "a = np.array([2,4],dtype=np.int32)\n",
    "print(a)"
   ]
  },
  {
   "cell_type": "markdown",
   "id": "15bdde4d",
   "metadata": {},
   "source": [
    "## 2.2 多维array创建"
   ]
  },
  {
   "cell_type": "code",
   "execution_count": 15,
   "id": "e21938eb",
   "metadata": {},
   "outputs": [
    {
     "name": "stdout",
     "output_type": "stream",
     "text": [
      "[[2 3]\n",
      " [3 4]]\n"
     ]
    }
   ],
   "source": [
    "a = np.array([[2,3],[3,4]])\n",
    "print(a)"
   ]
  },
  {
   "cell_type": "markdown",
   "id": "8fbee307",
   "metadata": {},
   "source": [
    "## 2.3 全0数组"
   ]
  },
  {
   "cell_type": "code",
   "execution_count": 22,
   "id": "c0f1890e",
   "metadata": {},
   "outputs": [
    {
     "name": "stdout",
     "output_type": "stream",
     "text": [
      "[[0. 0. 0. 0.]\n",
      " [0. 0. 0. 0.]\n",
      " [0. 0. 0. 0.]]\n"
     ]
    }
   ],
   "source": [
    "a = np.zeros([3,4])\n",
    "print(a)"
   ]
  },
  {
   "cell_type": "markdown",
   "id": "2ce0b887",
   "metadata": {},
   "source": [
    "## 2.4 创建全1数组"
   ]
  },
  {
   "cell_type": "code",
   "execution_count": 23,
   "id": "c8ea9b8b",
   "metadata": {},
   "outputs": [
    {
     "name": "stdout",
     "output_type": "stream",
     "text": [
      "[[1. 1. 1. 1.]\n",
      " [1. 1. 1. 1.]\n",
      " [1. 1. 1. 1.]]\n"
     ]
    }
   ],
   "source": [
    "a = np.ones([3,4])\n",
    "print(a)"
   ]
  },
  {
   "cell_type": "markdown",
   "id": "ec6f6a12",
   "metadata": {},
   "source": [
    "## 2.5 创建全空数组"
   ]
  },
  {
   "cell_type": "code",
   "execution_count": 31,
   "id": "72d5e106",
   "metadata": {},
   "outputs": [
    {
     "name": "stdout",
     "output_type": "stream",
     "text": [
      "[[1. 1. 1. 1.]\n",
      " [1. 1. 1. 1.]\n",
      " [1. 1. 1. 1.]]\n"
     ]
    }
   ],
   "source": [
    "a = np.empty((3,4))\n",
    "print(a)"
   ]
  },
  {
   "cell_type": "code",
   "execution_count": 33,
   "id": "9c1139fb",
   "metadata": {},
   "outputs": [
    {
     "name": "stdout",
     "output_type": "stream",
     "text": [
      "[[3. 3. 3. 3.]\n",
      " [3. 3. 3. 3.]\n",
      " [3. 3. 3. 3.]]\n"
     ]
    }
   ],
   "source": [
    "a = np.empty((3,4))\n",
    "a.fill(3)\n",
    "print(a)"
   ]
  },
  {
   "cell_type": "markdown",
   "id": "601764b5",
   "metadata": {},
   "source": [
    "## 2.6 创建连续数组"
   ]
  },
  {
   "cell_type": "code",
   "execution_count": 34,
   "id": "6d4203d3",
   "metadata": {},
   "outputs": [
    {
     "name": "stdout",
     "output_type": "stream",
     "text": [
      "[10 12 14 16 18 20]\n"
     ]
    }
   ],
   "source": [
    "a = np.arange(10,21,2) # 10-20的数据，步长为2\n",
    "print(a)"
   ]
  },
  {
   "cell_type": "markdown",
   "id": "00074ce0",
   "metadata": {},
   "source": [
    "## 2.7 reshape操作"
   ]
  },
  {
   "cell_type": "code",
   "execution_count": 35,
   "id": "dfe51304",
   "metadata": {},
   "outputs": [
    {
     "name": "stdout",
     "output_type": "stream",
     "text": [
      "[[10 12 14]\n",
      " [16 18 20]]\n"
     ]
    }
   ],
   "source": [
    "b = a.reshape((2,3))\n",
    "print(b)"
   ]
  },
  {
   "cell_type": "markdown",
   "id": "d19a46f6",
   "metadata": {},
   "source": [
    "## 2.8 创建连续型数据"
   ]
  },
  {
   "cell_type": "code",
   "execution_count": 36,
   "id": "ed679c73",
   "metadata": {},
   "outputs": [
    {
     "name": "stdout",
     "output_type": "stream",
     "text": [
      "[ 1.          1.47368421  1.94736842  2.42105263  2.89473684  3.36842105\n",
      "  3.84210526  4.31578947  4.78947368  5.26315789  5.73684211  6.21052632\n",
      "  6.68421053  7.15789474  7.63157895  8.10526316  8.57894737  9.05263158\n",
      "  9.52631579 10.        ]\n"
     ]
    }
   ],
   "source": [
    "a = np.linspace(1,10,20) # 开始端1，结束端10，且分割成20个数据，生成线段\n",
    "print(a)"
   ]
  },
  {
   "cell_type": "markdown",
   "id": "4ba8f27a",
   "metadata": {},
   "source": [
    "## 2.9 linspace的reshape操作"
   ]
  },
  {
   "cell_type": "code",
   "execution_count": 37,
   "id": "5615a095",
   "metadata": {},
   "outputs": [
    {
     "name": "stdout",
     "output_type": "stream",
     "text": [
      "[[ 1.          1.47368421  1.94736842  2.42105263]\n",
      " [ 2.89473684  3.36842105  3.84210526  4.31578947]\n",
      " [ 4.78947368  5.26315789  5.73684211  6.21052632]\n",
      " [ 6.68421053  7.15789474  7.63157895  8.10526316]\n",
      " [ 8.57894737  9.05263158  9.52631579 10.        ]]\n"
     ]
    }
   ],
   "source": [
    "b = a.reshape((5,4))\n",
    "print(b)"
   ]
  },
  {
   "cell_type": "markdown",
   "id": "31447865",
   "metadata": {},
   "source": [
    "# 3.Numpy基本运算"
   ]
  },
  {
   "cell_type": "markdown",
   "id": "14fb1906",
   "metadata": {},
   "source": [
    "## 3.1 一维矩阵运算"
   ]
  },
  {
   "cell_type": "code",
   "execution_count": 38,
   "id": "05337a9a",
   "metadata": {},
   "outputs": [
    {
     "name": "stdout",
     "output_type": "stream",
     "text": [
      "[10 20 30 40] [0 1 2 3]\n"
     ]
    }
   ],
   "source": [
    "import numpy as np\n",
    "\n",
    "a = np.array([10,20,30,40])\n",
    "b = np.arange(4)\n",
    "print(a,b)"
   ]
  },
  {
   "cell_type": "code",
   "execution_count": 39,
   "id": "646aa516",
   "metadata": {},
   "outputs": [
    {
     "name": "stdout",
     "output_type": "stream",
     "text": [
      "[10 19 28 37]\n"
     ]
    }
   ],
   "source": [
    "c = a - b\n",
    "print(c)"
   ]
  },
  {
   "cell_type": "code",
   "execution_count": 40,
   "id": "08a53dd6",
   "metadata": {},
   "outputs": [
    {
     "name": "stdout",
     "output_type": "stream",
     "text": [
      "[10 21 32 43]\n"
     ]
    }
   ],
   "source": [
    "print(a+b)"
   ]
  },
  {
   "cell_type": "code",
   "execution_count": 41,
   "id": "3f99501a",
   "metadata": {},
   "outputs": [
    {
     "name": "stdout",
     "output_type": "stream",
     "text": [
      "[  0  20  60 120]\n"
     ]
    }
   ],
   "source": [
    "print(a * b)"
   ]
  },
  {
   "cell_type": "code",
   "execution_count": 42,
   "id": "e15e44f1",
   "metadata": {},
   "outputs": [
    {
     "name": "stdout",
     "output_type": "stream",
     "text": [
      "200\n"
     ]
    }
   ],
   "source": [
    "print(a.dot(b))"
   ]
  },
  {
   "cell_type": "code",
   "execution_count": 43,
   "id": "39de8694",
   "metadata": {},
   "outputs": [
    {
     "name": "stdout",
     "output_type": "stream",
     "text": [
      "200\n"
     ]
    }
   ],
   "source": [
    "print(a.T.dot(b))"
   ]
  },
  {
   "cell_type": "markdown",
   "id": "47f3db95",
   "metadata": {},
   "source": [
    "## 3.2 多维矩阵运算"
   ]
  },
  {
   "cell_type": "code",
   "execution_count": 44,
   "id": "102b5b0f",
   "metadata": {},
   "outputs": [
    {
     "name": "stdout",
     "output_type": "stream",
     "text": [
      "[[1 1]\n",
      " [0 1]]\n"
     ]
    }
   ],
   "source": [
    "a = np.array([[1,1],[0,1]])\n",
    "b = np.arange(4).reshape((2,2))\n",
    "print(a)"
   ]
  },
  {
   "cell_type": "code",
   "execution_count": 45,
   "id": "fa3e8351",
   "metadata": {},
   "outputs": [
    {
     "name": "stdout",
     "output_type": "stream",
     "text": [
      "[[0 1]\n",
      " [2 3]]\n"
     ]
    }
   ],
   "source": [
    "print(b)"
   ]
  },
  {
   "cell_type": "code",
   "execution_count": 47,
   "id": "9dfe276e",
   "metadata": {},
   "outputs": [
    {
     "name": "stdout",
     "output_type": "stream",
     "text": [
      "[[2 4]\n",
      " [2 3]]\n"
     ]
    }
   ],
   "source": [
    "c = a.dot(b)\n",
    "print(c)"
   ]
  },
  {
   "cell_type": "code",
   "execution_count": 48,
   "id": "81d698b9",
   "metadata": {},
   "outputs": [
    {
     "name": "stdout",
     "output_type": "stream",
     "text": [
      "[[2 4]\n",
      " [2 3]]\n"
     ]
    }
   ],
   "source": [
    "c = np.dot(a,b)\n",
    "print(c)"
   ]
  },
  {
   "cell_type": "code",
   "execution_count": 49,
   "id": "979eb046",
   "metadata": {},
   "outputs": [
    {
     "name": "stdout",
     "output_type": "stream",
     "text": [
      "3.3159731924231406\n",
      "0.005120378969071804\n",
      "0.8830464154162697\n",
      "a= [[0.86609566 0.00512038 0.4726153  0.1993335 ]\n",
      " [0.51774489 0.88304642 0.22228912 0.14972792]]\n"
     ]
    }
   ],
   "source": [
    "a = np.random.random((2,4))\n",
    "print(np.sum(a)) \n",
    "print(np.min(a))\n",
    "print(np.max(a))\n",
    "print(\"a=\",a)"
   ]
  },
  {
   "cell_type": "code",
   "execution_count": 50,
   "id": "87161e5b",
   "metadata": {},
   "outputs": [
    {
     "name": "stdout",
     "output_type": "stream",
     "text": [
      "sum= [1.54316485 1.77280834]\n",
      "min= [0.51774489 0.00512038 0.22228912 0.14972792]\n",
      "max= [0.86609566 0.88304642]\n"
     ]
    }
   ],
   "source": [
    "# 查找 axis=0按列 =1按行\n",
    "print(\"sum=\",np.sum(a,axis=1))\n",
    "print(\"min=\",np.min(a,axis=0))\n",
    "print(\"max=\",np.max(a,axis=1))"
   ]
  },
  {
   "cell_type": "markdown",
   "id": "cdad37d4",
   "metadata": {},
   "source": [
    "## 3.3 基本计算"
   ]
  },
  {
   "cell_type": "code",
   "execution_count": 51,
   "id": "d2ad4274",
   "metadata": {},
   "outputs": [
    {
     "name": "stdout",
     "output_type": "stream",
     "text": [
      "[[ 2  3  4  5]\n",
      " [ 6  7  8  9]\n",
      " [10 11 12 13]]\n"
     ]
    }
   ],
   "source": [
    "import numpy as np\n",
    "\n",
    "A = np.arange(2,14).reshape((3,4))\n",
    "print(A)"
   ]
  },
  {
   "cell_type": "code",
   "execution_count": 52,
   "id": "52c6f04a",
   "metadata": {},
   "outputs": [
    {
     "name": "stdout",
     "output_type": "stream",
     "text": [
      "0\n"
     ]
    }
   ],
   "source": [
    "# 最小元素索引\n",
    "print(np.argmin(A)) # 0"
   ]
  },
  {
   "cell_type": "code",
   "execution_count": 53,
   "id": "0b8c414d",
   "metadata": {},
   "outputs": [
    {
     "name": "stdout",
     "output_type": "stream",
     "text": [
      "11\n"
     ]
    }
   ],
   "source": [
    "# 最大元素索引\n",
    "print(np.argmax(A)) # 11"
   ]
  },
  {
   "cell_type": "code",
   "execution_count": 54,
   "id": "663ae830",
   "metadata": {},
   "outputs": [
    {
     "name": "stdout",
     "output_type": "stream",
     "text": [
      "7.5\n"
     ]
    }
   ],
   "source": [
    "# 求整个矩阵的均值\n",
    "print(np.mean(A)) # 7.5"
   ]
  },
  {
   "cell_type": "code",
   "execution_count": 55,
   "id": "5c992309",
   "metadata": {},
   "outputs": [
    {
     "name": "stdout",
     "output_type": "stream",
     "text": [
      "7.5\n"
     ]
    }
   ],
   "source": [
    "print(np.average(A)) # 7.5"
   ]
  },
  {
   "cell_type": "code",
   "execution_count": 56,
   "id": "cb8f9e35",
   "metadata": {},
   "outputs": [
    {
     "name": "stdout",
     "output_type": "stream",
     "text": [
      "7.5\n"
     ]
    }
   ],
   "source": [
    "# 中位数\n",
    "print(np.median(A)) # 7.5"
   ]
  },
  {
   "cell_type": "code",
   "execution_count": 57,
   "id": "3de66322",
   "metadata": {},
   "outputs": [
    {
     "name": "stdout",
     "output_type": "stream",
     "text": [
      "[ 2  5  9 14 20 27 35 44 54 65 77 90]\n"
     ]
    }
   ],
   "source": [
    "# 累加\n",
    "print(np.cumsum(A))"
   ]
  },
  {
   "cell_type": "code",
   "execution_count": 58,
   "id": "f72ef50c",
   "metadata": {},
   "outputs": [
    {
     "name": "stdout",
     "output_type": "stream",
     "text": [
      "[[2 4]\n",
      " [4 2]]\n"
     ]
    }
   ],
   "source": [
    "# 累差运算\n",
    "B = np.array([[3,5,9],\n",
    "              [4,8,10]])\n",
    "print(np.diff(B))"
   ]
  },
  {
   "cell_type": "code",
   "execution_count": 59,
   "id": "f36b28b6",
   "metadata": {},
   "outputs": [
    {
     "name": "stdout",
     "output_type": "stream",
     "text": [
      "(array([0, 0, 0, 1, 1, 1], dtype=int64), array([0, 1, 2, 0, 1, 2], dtype=int64))\n",
      "(array([0, 0, 1, 1], dtype=int64), array([1, 2, 0, 2], dtype=int64))\n"
     ]
    }
   ],
   "source": [
    "# np.nonzero函数用于得到数组array中非零元素的位置\n",
    "C = np.array([[0,5,9],\n",
    "              [4,0,10]])\n",
    "print(np.nonzero(B))\n",
    "print(np.nonzero(C))"
   ]
  },
  {
   "cell_type": "code",
   "execution_count": 60,
   "id": "a98bbc26",
   "metadata": {},
   "outputs": [
    {
     "name": "stdout",
     "output_type": "stream",
     "text": [
      "[[14 13 12 11]\n",
      " [10  9  8  7]\n",
      " [ 6  5  4  3]]\n"
     ]
    }
   ],
   "source": [
    "# 仿照列表排序\n",
    "A = np.arange(14,2,-1).reshape((3,4)) # -1表示反向递减一个步长\n",
    "print(A)"
   ]
  },
  {
   "cell_type": "code",
   "execution_count": 61,
   "id": "c1a3299b",
   "metadata": {},
   "outputs": [
    {
     "name": "stdout",
     "output_type": "stream",
     "text": [
      "[[11 12 13 14]\n",
      " [ 7  8  9 10]\n",
      " [ 3  4  5  6]]\n"
     ]
    }
   ],
   "source": [
    "print(np.sort(A))"
   ]
  },
  {
   "cell_type": "code",
   "execution_count": 62,
   "id": "283ca9f5",
   "metadata": {},
   "outputs": [
    {
     "name": "stdout",
     "output_type": "stream",
     "text": [
      "[[14 10  6]\n",
      " [13  9  5]\n",
      " [12  8  4]\n",
      " [11  7  3]]\n"
     ]
    }
   ],
   "source": [
    "# 矩阵转置\n",
    "print(np.transpose(A))"
   ]
  },
  {
   "cell_type": "code",
   "execution_count": 63,
   "id": "8bc2faa9",
   "metadata": {},
   "outputs": [
    {
     "name": "stdout",
     "output_type": "stream",
     "text": [
      "[[14 10  6]\n",
      " [13  9  5]\n",
      " [12  8  4]\n",
      " [11  7  3]]\n"
     ]
    }
   ],
   "source": [
    "print(A.T)"
   ]
  },
  {
   "cell_type": "markdown",
   "id": "e61ee737",
   "metadata": {},
   "source": [
    "# 4. NumPy索引与切片"
   ]
  },
  {
   "cell_type": "code",
   "execution_count": 64,
   "id": "ab10e518",
   "metadata": {},
   "outputs": [
    {
     "name": "stdout",
     "output_type": "stream",
     "text": [
      "[ 3  4  5  6  7  8  9 10 11 12 13 14]\n"
     ]
    }
   ],
   "source": [
    "import numpy as np\n",
    "A = np.arange(3,15)\n",
    "print(A)"
   ]
  },
  {
   "cell_type": "code",
   "execution_count": 65,
   "id": "a42d341b",
   "metadata": {},
   "outputs": [
    {
     "name": "stdout",
     "output_type": "stream",
     "text": [
      "6\n"
     ]
    }
   ],
   "source": [
    "print(A[3])"
   ]
  },
  {
   "cell_type": "code",
   "execution_count": 66,
   "id": "3a187d8e",
   "metadata": {},
   "outputs": [
    {
     "name": "stdout",
     "output_type": "stream",
     "text": [
      "[[ 3  4  5  6]\n",
      " [ 7  8  9 10]\n",
      " [11 12 13 14]]\n"
     ]
    }
   ],
   "source": [
    "B = A.reshape(3,4)\n",
    "print(B)"
   ]
  },
  {
   "cell_type": "code",
   "execution_count": 67,
   "id": "80fab1a0",
   "metadata": {},
   "outputs": [
    {
     "name": "stdout",
     "output_type": "stream",
     "text": [
      "[11 12 13 14]\n"
     ]
    }
   ],
   "source": [
    "print(B[2])"
   ]
  },
  {
   "cell_type": "code",
   "execution_count": 68,
   "id": "8e1e9076",
   "metadata": {},
   "outputs": [
    {
     "name": "stdout",
     "output_type": "stream",
     "text": [
      "[8 9]\n"
     ]
    }
   ],
   "source": [
    "# list切片操作\n",
    "print(B[1,1:3]) # [8 9] 1:3表示1-2不包含3"
   ]
  },
  {
   "cell_type": "code",
   "execution_count": 69,
   "id": "c7b7f24c",
   "metadata": {},
   "outputs": [
    {
     "name": "stdout",
     "output_type": "stream",
     "text": [
      "[3 4 5 6]\n",
      "[ 7  8  9 10]\n",
      "[11 12 13 14]\n"
     ]
    }
   ],
   "source": [
    "for row in B:\n",
    "    print(row)"
   ]
  },
  {
   "cell_type": "code",
   "execution_count": 70,
   "id": "e32d5ed9",
   "metadata": {},
   "outputs": [
    {
     "name": "stdout",
     "output_type": "stream",
     "text": [
      "[ 3  7 11]\n",
      "[ 4  8 12]\n",
      "[ 5  9 13]\n",
      "[ 6 10 14]\n"
     ]
    }
   ],
   "source": [
    "# 如果要打印列，则进行转置即可\n",
    "for column in B.T:\n",
    "    print(column)"
   ]
  },
  {
   "cell_type": "code",
   "execution_count": 71,
   "id": "0c31e871",
   "metadata": {},
   "outputs": [
    {
     "name": "stdout",
     "output_type": "stream",
     "text": [
      "[ 3  4  5  6  7  8  9 10 11 12 13 14]\n"
     ]
    }
   ],
   "source": [
    "# 多维转一维\n",
    "A = np.arange(3,15).reshape((3,4))\n",
    "# print(A)\n",
    "print(A.flatten())\n",
    "# flat是一个迭代器，本身是一个object属性"
   ]
  },
  {
   "cell_type": "markdown",
   "id": "670fb04d",
   "metadata": {},
   "source": [
    "# 5. NumPy array合并"
   ]
  },
  {
   "cell_type": "markdown",
   "id": "5b5aa11f",
   "metadata": {},
   "source": [
    "## 5.1 数组合并"
   ]
  },
  {
   "cell_type": "code",
   "execution_count": 72,
   "id": "469f9086",
   "metadata": {},
   "outputs": [
    {
     "name": "stdout",
     "output_type": "stream",
     "text": [
      "[[1 1 1]\n",
      " [2 2 2]]\n"
     ]
    }
   ],
   "source": [
    "import numpy as np\n",
    "A = np.array([1,1,1])\n",
    "B = np.array([2,2,2])\n",
    "print(np.vstack((A,B)))\n",
    "# vertical stack 上下合并,对括号的两个整体操作。"
   ]
  },
  {
   "cell_type": "code",
   "execution_count": 73,
   "id": "f7340b14",
   "metadata": {},
   "outputs": [
    {
     "name": "stdout",
     "output_type": "stream",
     "text": [
      "[[1 1 1]\n",
      " [2 2 2]]\n"
     ]
    }
   ],
   "source": [
    "C = np.vstack((A,B))\n",
    "print(C)"
   ]
  },
  {
   "cell_type": "code",
   "execution_count": 74,
   "id": "35a87913",
   "metadata": {},
   "outputs": [
    {
     "name": "stdout",
     "output_type": "stream",
     "text": [
      "(3,) (3,) (2, 3)\n"
     ]
    }
   ],
   "source": [
    "print(A.shape,B.shape,C.shape)# 从shape中看出A,B均为拥有3项的数组(数列)"
   ]
  },
  {
   "cell_type": "code",
   "execution_count": 75,
   "id": "27a84517",
   "metadata": {},
   "outputs": [
    {
     "name": "stdout",
     "output_type": "stream",
     "text": [
      "[1 1 1 2 2 2]\n"
     ]
    }
   ],
   "source": [
    "# horizontal stack左右合并\n",
    "D = np.hstack((A,B))\n",
    "print(D)"
   ]
  },
  {
   "cell_type": "markdown",
   "id": "ce5a2b4b",
   "metadata": {},
   "source": [
    "## 5.2 数组转置为矩阵"
   ]
  },
  {
   "cell_type": "code",
   "execution_count": 76,
   "id": "5361ae5b",
   "metadata": {},
   "outputs": [
    {
     "name": "stdout",
     "output_type": "stream",
     "text": [
      "[[1 1 1]]\n"
     ]
    }
   ],
   "source": [
    "print(A[np.newaxis,:]) # [1 1 1]变为[[1 1 1]]"
   ]
  },
  {
   "cell_type": "code",
   "execution_count": 77,
   "id": "cdb99e35",
   "metadata": {},
   "outputs": [
    {
     "name": "stdout",
     "output_type": "stream",
     "text": [
      "(1, 3)\n"
     ]
    }
   ],
   "source": [
    "print(A[np.newaxis,:].shape) # (3,)变为(1, 3)"
   ]
  },
  {
   "cell_type": "code",
   "execution_count": 78,
   "id": "f4023fcc",
   "metadata": {},
   "outputs": [
    {
     "name": "stdout",
     "output_type": "stream",
     "text": [
      "[[1]\n",
      " [1]\n",
      " [1]]\n"
     ]
    }
   ],
   "source": [
    "print(A[:,np.newaxis])"
   ]
  },
  {
   "cell_type": "markdown",
   "id": "6260f646",
   "metadata": {},
   "source": [
    "## 5.3 多个矩阵合并"
   ]
  },
  {
   "cell_type": "code",
   "execution_count": 79,
   "id": "549c6a40",
   "metadata": {},
   "outputs": [
    {
     "name": "stdout",
     "output_type": "stream",
     "text": [
      "------------\n",
      "(3, 1)\n"
     ]
    }
   ],
   "source": [
    "# concatenate的第一个例子\n",
    "print(\"------------\")\n",
    "print(A[:,np.newaxis].shape) # (3,1)"
   ]
  },
  {
   "cell_type": "code",
   "execution_count": 81,
   "id": "be57fb31",
   "metadata": {},
   "outputs": [
    {
     "name": "stdout",
     "output_type": "stream",
     "text": [
      "[[[1]]\n",
      "\n",
      " [[1]]\n",
      "\n",
      " [[1]]]\n",
      "[[[2]]\n",
      "\n",
      " [[2]]\n",
      "\n",
      " [[2]]]\n"
     ]
    }
   ],
   "source": [
    "A = A[:,np.newaxis] # 数组转为矩阵\n",
    "B = B[:,np.newaxis] # 数组转为矩阵\n",
    "print(A)\n",
    "print(B)"
   ]
  },
  {
   "cell_type": "code",
   "execution_count": 82,
   "id": "b78bfcaa",
   "metadata": {},
   "outputs": [
    {
     "name": "stdout",
     "output_type": "stream",
     "text": [
      "[[[1]]\n",
      "\n",
      " [[1]]\n",
      "\n",
      " [[1]]\n",
      "\n",
      " [[2]]\n",
      "\n",
      " [[2]]\n",
      "\n",
      " [[2]]\n",
      "\n",
      " [[2]]\n",
      "\n",
      " [[2]]\n",
      "\n",
      " [[2]]\n",
      "\n",
      " [[1]]\n",
      "\n",
      " [[1]]\n",
      "\n",
      " [[1]]]\n"
     ]
    }
   ],
   "source": [
    "# axis=0纵向合并\n",
    "C = np.concatenate((A,B,B,A),axis=0)\n",
    "print(C)"
   ]
  },
  {
   "cell_type": "code",
   "execution_count": 83,
   "id": "3947580b",
   "metadata": {},
   "outputs": [
    {
     "name": "stdout",
     "output_type": "stream",
     "text": [
      "[[[1]\n",
      "  [2]]\n",
      "\n",
      " [[1]\n",
      "  [2]]\n",
      "\n",
      " [[1]\n",
      "  [2]]]\n"
     ]
    }
   ],
   "source": [
    "# axis=1横向合并\n",
    "C = np.concatenate((A,B),axis=1)\n",
    "print(C)"
   ]
  },
  {
   "cell_type": "markdown",
   "id": "47397a4f",
   "metadata": {},
   "source": [
    "# 6. NumPy array分割"
   ]
  },
  {
   "cell_type": "markdown",
   "id": "52c4b099",
   "metadata": {},
   "source": [
    "## 6.1 构造3行4列矩阵"
   ]
  },
  {
   "cell_type": "code",
   "execution_count": 84,
   "id": "c488ae37",
   "metadata": {},
   "outputs": [
    {
     "name": "stdout",
     "output_type": "stream",
     "text": [
      "[[ 0  1  2  3]\n",
      " [ 4  5  6  7]\n",
      " [ 8  9 10 11]]\n"
     ]
    }
   ],
   "source": [
    "import numpy as np\n",
    "A = np.arange(12).reshape((3,4))\n",
    "print(A)"
   ]
  },
  {
   "cell_type": "markdown",
   "id": "92ee8d21",
   "metadata": {},
   "source": [
    "## 6.2 等量分割"
   ]
  },
  {
   "cell_type": "code",
   "execution_count": 85,
   "id": "776e5e58",
   "metadata": {},
   "outputs": [
    {
     "name": "stdout",
     "output_type": "stream",
     "text": [
      "[array([[0, 1],\n",
      "       [4, 5],\n",
      "       [8, 9]]), array([[ 2,  3],\n",
      "       [ 6,  7],\n",
      "       [10, 11]])]\n"
     ]
    }
   ],
   "source": [
    "# 等量分割\n",
    "# 纵向分割同横向合并的axis\n",
    "print(np.split(A, 2, axis=1))"
   ]
  },
  {
   "cell_type": "markdown",
   "id": "a572ae65",
   "metadata": {},
   "source": [
    "## 6.3 不等量分割"
   ]
  },
  {
   "cell_type": "code",
   "execution_count": 86,
   "id": "387df7f3",
   "metadata": {},
   "outputs": [
    {
     "name": "stdout",
     "output_type": "stream",
     "text": [
      "[array([[0, 1],\n",
      "       [4, 5],\n",
      "       [8, 9]]), array([[ 2],\n",
      "       [ 6],\n",
      "       [10]]), array([[ 3],\n",
      "       [ 7],\n",
      "       [11]])]\n"
     ]
    }
   ],
   "source": [
    "print(np.array_split(A,3,axis=1))"
   ]
  },
  {
   "cell_type": "markdown",
   "id": "7210d1cb",
   "metadata": {},
   "source": [
    "# 7. NumPy copy与="
   ]
  },
  {
   "cell_type": "markdown",
   "id": "6df3ddb0",
   "metadata": {},
   "source": [
    "## 7.1 =赋值方式会带有关联性"
   ]
  },
  {
   "cell_type": "code",
   "execution_count": 87,
   "id": "e876f9ad",
   "metadata": {},
   "outputs": [
    {
     "name": "stdout",
     "output_type": "stream",
     "text": [
      "[0 1 2 3]\n"
     ]
    }
   ],
   "source": [
    "import numpy as np\n",
    "# `=`赋值方式会带有关联性\n",
    "a = np.arange(4)\n",
    "print(a) # [0 1 2 3]"
   ]
  },
  {
   "cell_type": "code",
   "execution_count": 88,
   "id": "9f7ef497",
   "metadata": {},
   "outputs": [
    {
     "name": "stdout",
     "output_type": "stream",
     "text": [
      "[11  1  2  3]\n"
     ]
    }
   ],
   "source": [
    "b = a\n",
    "c = a\n",
    "d = b\n",
    "a[0] = 11\n",
    "print(a) # [11  1  2  3]"
   ]
  },
  {
   "cell_type": "code",
   "execution_count": 89,
   "id": "c3ec4abc",
   "metadata": {},
   "outputs": [
    {
     "name": "stdout",
     "output_type": "stream",
     "text": [
      "[11  1  2  3]\n"
     ]
    }
   ],
   "source": [
    "print(b) # [11  1  2  3]"
   ]
  },
  {
   "cell_type": "code",
   "execution_count": 90,
   "id": "870d81be",
   "metadata": {},
   "outputs": [
    {
     "name": "stdout",
     "output_type": "stream",
     "text": [
      "[11  1  2  3]\n"
     ]
    }
   ],
   "source": [
    "print(c) # [11  1  2  3]"
   ]
  },
  {
   "cell_type": "code",
   "execution_count": 91,
   "id": "0eef96da",
   "metadata": {},
   "outputs": [
    {
     "name": "stdout",
     "output_type": "stream",
     "text": [
      "[11  1  2  3]\n"
     ]
    }
   ],
   "source": [
    "print(d) # [11  1  2  3]"
   ]
  },
  {
   "cell_type": "code",
   "execution_count": 92,
   "id": "c94be8cb",
   "metadata": {},
   "outputs": [
    {
     "name": "stdout",
     "output_type": "stream",
     "text": [
      "True\n"
     ]
    }
   ],
   "source": [
    "print(b is a) # True"
   ]
  },
  {
   "cell_type": "code",
   "execution_count": 93,
   "id": "d91e50e6",
   "metadata": {},
   "outputs": [
    {
     "name": "stdout",
     "output_type": "stream",
     "text": [
      "True\n"
     ]
    }
   ],
   "source": [
    "print(c is a) # True"
   ]
  },
  {
   "cell_type": "markdown",
   "id": "1f1d2fac",
   "metadata": {},
   "source": [
    "## 7.2 copy()赋值方式没有关联性"
   ]
  },
  {
   "cell_type": "code",
   "execution_count": 94,
   "id": "5c71fb3d",
   "metadata": {},
   "outputs": [
    {
     "name": "stdout",
     "output_type": "stream",
     "text": [
      "[0 1 2 3]\n"
     ]
    }
   ],
   "source": [
    "a = np.arange(4)\n",
    "print(a) # [0 1 2 3]"
   ]
  },
  {
   "cell_type": "code",
   "execution_count": 95,
   "id": "389ac6da",
   "metadata": {},
   "outputs": [
    {
     "name": "stdout",
     "output_type": "stream",
     "text": [
      "[0 1 2 3]\n"
     ]
    }
   ],
   "source": [
    "b =a.copy() # deep copy\n",
    "print(b) # [0 1 2 3]"
   ]
  },
  {
   "cell_type": "code",
   "execution_count": 96,
   "id": "a257c474",
   "metadata": {},
   "outputs": [
    {
     "name": "stdout",
     "output_type": "stream",
     "text": [
      "[ 0  1  2 44]\n",
      "[0 1 2 3]\n"
     ]
    }
   ],
   "source": [
    "a[3] = 44\n",
    "print(a) # [ 0  1  2 44]\n",
    "print(b) # [0 1 2 3]\n",
    "\n",
    "# 此时a与b已经没有关联"
   ]
  },
  {
   "cell_type": "markdown",
   "id": "0de6d002",
   "metadata": {},
   "source": [
    "# 8.广播机制\n",
    "\n",
    "numpy数组间的基础运算是一对一，也就是a.shape==b.shape，但是当两者不一样的时候，就会自动触发广播机制，如下例子："
   ]
  },
  {
   "cell_type": "code",
   "execution_count": 97,
   "id": "7e5dc488",
   "metadata": {},
   "outputs": [
    {
     "name": "stdout",
     "output_type": "stream",
     "text": [
      "[[ 0  1  2]\n",
      " [10 11 12]\n",
      " [20 21 22]\n",
      " [30 31 32]]\n"
     ]
    }
   ],
   "source": [
    "from numpy import array\n",
    "a = array([[ 0, 0, 0],\n",
    "           [10,10,10],\n",
    "           [20,20,20],\n",
    "           [30,30,30]])\n",
    "b = array([0,1,2])\n",
    "print(a+b)"
   ]
  }
 ],
 "metadata": {
  "kernelspec": {
   "display_name": "Python 3 (ipykernel)",
   "language": "python",
   "name": "python3"
  },
  "language_info": {
   "codemirror_mode": {
    "name": "ipython",
    "version": 3
   },
   "file_extension": ".py",
   "mimetype": "text/x-python",
   "name": "python",
   "nbconvert_exporter": "python",
   "pygments_lexer": "ipython3",
   "version": "3.11.1"
  }
 },
 "nbformat": 4,
 "nbformat_minor": 5
}
