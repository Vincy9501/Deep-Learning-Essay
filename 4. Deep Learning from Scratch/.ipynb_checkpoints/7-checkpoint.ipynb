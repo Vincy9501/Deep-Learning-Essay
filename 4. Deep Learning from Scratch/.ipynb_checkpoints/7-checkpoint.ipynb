{
 "cells": [
  {
   "cell_type": "markdown",
   "id": "a2378858",
   "metadata": {},
   "source": [
    "# 第七章相关代码"
   ]
  },
  {
   "cell_type": "markdown",
   "id": "42c4bd1d",
   "metadata": {},
   "source": [
    "# 4.3 卷积层的实现"
   ]
  },
  {
   "cell_type": "code",
   "execution_count": 4,
   "id": "45542ba3",
   "metadata": {},
   "outputs": [],
   "source": [
    "import sys, os\n",
    "sys.path.append(os.pardir)\n",
    "import numpy as np\n",
    "from common.util import im2col"
   ]
  },
  {
   "cell_type": "code",
   "execution_count": 7,
   "id": "dfbb8a89",
   "metadata": {},
   "outputs": [
    {
     "name": "stdout",
     "output_type": "stream",
     "text": [
      "(9, 75)\n"
     ]
    }
   ],
   "source": [
    "# 例子\n",
    "# 一个大矩阵包含1个矩阵，矩阵里有三个小矩阵，三个小矩阵分别是7行7列\n",
    "x1 = np.random.rand(1, 3, 7, 7)\n",
    "# print(x1)\n",
    "col1 = im2col(x1, 5, 5, stride=1, pad=0)\n",
    "print(col1.shape) # (9, 75)"
   ]
  },
  {
   "cell_type": "code",
   "execution_count": 20,
   "id": "95ea2c41",
   "metadata": {},
   "outputs": [],
   "source": [
    "class Convolution:\n",
    "    # 滤波器 偏置 步幅 填充\n",
    "\n",
    "    def __init__(self, W, b, stride=1, pad=0):\n",
    "            self.W = W\n",
    "            self.b = b\n",
    "            self.stride = stride\n",
    "            self.pad = pad\n",
    "            \n",
    "    def forward(self, x):\n",
    "        FN, C, FH, FW = self.W.shape\n",
    "        N, C, H, W = x.shape\n",
    "        out_h = int(1 + (H + 2*self.pad - FH) / self.stride)\n",
    "        out_w = int(1 + (W + 2*self.pad - FW) / self.stride)\n",
    "        \n",
    "        col = im2col(x, FH, FW, self.stride, self.pad)\n",
    "        col_W = self.W.reshape(FN, -1).T # 滤波器的展开\n",
    "        # reshape函数会自动计算-1维度上的元素个数，使多维数组的元素个数前后一致\n",
    "        out = np.dot(col, col_W) + self.b\n",
    "        out = out.reshape(N, out_h, out_w, -1).transpose(0, 3, 1, 2)\n",
    "    \n",
    "        return out"
   ]
  },
  {
   "cell_type": "code",
   "execution_count": 25,
   "id": "968ed70a",
   "metadata": {},
   "outputs": [],
   "source": [
    "class Pooling:\n",
    "    def __init__(self, pool_h, pool_w, stride=1, pad=0):\n",
    "        self.pool_h = pool_h\n",
    "        self.pool_w = pool_w\n",
    "        self.stride = stride\n",
    "        self.pad = pad\n",
    "    def forward(self, x):\n",
    "        N, C, H, W = x.shape\n",
    "        out_h = int(1 + (H - self.pool_h) / self.stride)\n",
    "        out_w = int(1 + (W - self.pool_w) / self.stride)\n",
    "     # 展开(1)\n",
    "        col = im2col(x, self.pool_h, self.pool_w, self.stride, self.pad)\n",
    "        col = col.reshape(-1, self.pool_h*self.pool_w)\n",
    "     # 最大值(2)\n",
    "        out = np.max(col, axis=1)\n",
    "    # 转换(3)\n",
    "        out = out.reshape(N, out_h, out_w, C).transpose(0, 3, 1, 2)\n",
    "        return out"
   ]
  },
  {
   "cell_type": "code",
   "execution_count": null,
   "id": "4123f5e5",
   "metadata": {},
   "outputs": [],
   "source": []
  }
 ],
 "metadata": {
  "kernelspec": {
   "display_name": "Python 3 (ipykernel)",
   "language": "python",
   "name": "python3"
  },
  "language_info": {
   "codemirror_mode": {
    "name": "ipython",
    "version": 3
   },
   "file_extension": ".py",
   "mimetype": "text/x-python",
   "name": "python",
   "nbconvert_exporter": "python",
   "pygments_lexer": "ipython3",
   "version": "3.11.1"
  }
 },
 "nbformat": 4,
 "nbformat_minor": 5
}
